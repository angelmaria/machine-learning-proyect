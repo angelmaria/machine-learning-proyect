{
 "cells": [
  {
   "cell_type": "markdown",
   "metadata": {},
   "source": [
    "Este archivo de Python, feature_engineering.py, se encarga de realizar la ingeniería de características en un conjunto de datos de aerolíneas. La ingeniería de características es el proceso de crear nuevas características a partir de las existentes para mejorar el rendimiento de los modelos de aprendizaje automático.\n",
    "\n",
    "#### Importaciones\n"
   ]
  },
  {
   "cell_type": "code",
   "execution_count": null,
   "metadata": {},
   "outputs": [],
   "source": [
    "import pandas as pd\n",
    "import numpy as np\n",
    "import os"
   ]
  },
  {
   "cell_type": "markdown",
   "metadata": {},
   "source": []
  },
  {
   "cell_type": "markdown",
   "metadata": {},
   "source": [
    "\n",
    "#### Funciones de Ingeniería de Características\n"
   ]
  },
  {
   "cell_type": "markdown",
   "metadata": {},
   "source": [
    "\n",
    "1. **`create_total_rating(df)`**:\n",
    "\n",
    "    - Esta función crea una nueva característica llamada `total_rating`, que es la suma de todas las calificaciones de servicio.\n",
    "    \n",
    "    - Primero, define una lista de columnas de calificaciones.\n",
    "    \n",
    "    - Luego, verifica cuáles de estas columnas existen en el DataFrame y suma sus valores.\n",
    "    \n",
    "    - Si ninguna de las columnas existe, asigna un valor predeterminado de 0."
   ]
  },
  {
   "cell_type": "code",
   "execution_count": null,
   "metadata": {},
   "outputs": [],
   "source": [
    "def create_total_rating(df):\n",
    "        rating_columns = ['Inflight wifi service', 'Departure/Arrival time convenient',\n",
    "                          'Ease of Online booking', 'Gate location', 'Food and drink',\n",
    "                          'Online boarding', 'Seat comfort', 'Inflight entertainment',\n",
    "                          'On-board service', 'Leg room service', 'Baggage handling',\n",
    "                          'Checkin service', 'Inflight service', 'Cleanliness']\n",
    "        \n",
    "        existing_columns = [col for col in rating_columns if col in df.columns]\n",
    "        \n",
    "        if existing_columns:\n",
    "            df['total_rating'] = df[existing_columns].sum(axis=1)\n",
    "        else:\n",
    "            df['total_rating'] = 0\n",
    "        return df"
   ]
  },
  {
   "cell_type": "markdown",
   "metadata": {},
   "source": [
    "\n",
    "2. **`create_total_delay(df)`**:\n",
    "\n",
    "    - Esta función crea una nueva característica llamada `total_delay`, que es la suma del retraso de salida y llegada.\n",
    "    \n",
    "    - Verifica si las columnas `Departure Delay in Minutes` y `Arrival Delay in Minutes` existen en el DataFrame y las suma.\n",
    "    \n",
    "    - Si alguna de las columnas no existe, asigna un valor predeterminado de 0."
   ]
  },
  {
   "cell_type": "code",
   "execution_count": null,
   "metadata": {},
   "outputs": [],
   "source": [
    "def create_total_delay(df):\n",
    "        if 'Departure Delay in Minutes' in df.columns and 'Arrival Delay in Minutes' in df.columns:\n",
    "            df['total_delay'] = df['Departure Delay in Minutes'] + df['Arrival Delay in Minutes']\n",
    "        else:\n",
    "            df['total_delay'] = 0\n",
    "        return df"
   ]
  },
  {
   "cell_type": "markdown",
   "metadata": {},
   "source": [
    "\n",
    "3. **`bin_age(df)`**:\n",
    "\n",
    "    - Esta función crea una nueva característica llamada `age_group`, que categoriza las edades en grupos.\n",
    "    \n",
    "    - Utiliza `pd.cut` para dividir la columna `Age` en intervalos y asignar etiquetas a cada intervalo.\n",
    "    \n",
    "    - Si la columna `Age` no existe, asigna un valor predeterminado de `'Unknown'`."
   ]
  },
  {
   "cell_type": "code",
   "execution_count": null,
   "metadata": {},
   "outputs": [],
   "source": [
    "def bin_age(df):\n",
    "        if 'Age' in df.columns:\n",
    "            df['age_group'] = pd.cut(df['Age'], bins=[0, 18, 35, 55, 100], labels=['0-18', '19-35', '36-55', '55+'])\n",
    "        else:\n",
    "            df['age_group'] = 'Unknown'\n",
    "        return df"
   ]
  },
  {
   "cell_type": "markdown",
   "metadata": {},
   "source": [
    "\n",
    "4. **`engineer_features(df)`**:\n",
    "\n",
    "    - Esta función aplica todas las transformaciones de ingeniería de características definidas anteriormente.\n",
    "    \n",
    "    - Llama a las funciones `create_total_rating`, `create_total_delay` y `bin_age` en el DataFrame y devuelve el DataFrame modificado."
   ]
  },
  {
   "cell_type": "code",
   "execution_count": null,
   "metadata": {},
   "outputs": [],
   "source": [
    "def engineer_features(df):\n",
    "        df = create_total_rating(df)\n",
    "        df = create_total_delay(df)\n",
    "        df = bin_age(df)\n",
    "        return df"
   ]
  },
  {
   "cell_type": "markdown",
   "metadata": {},
   "source": [
    "\n",
    "#### Bloque Principal\n",
    "\n",
    "El bloque principal del script se ejecuta si el archivo se ejecuta directamente. Realiza las siguientes tareas:"
   ]
  },
  {
   "cell_type": "markdown",
   "metadata": {},
   "source": [
    "\n",
    "1. **Definir rutas de archivos**:\n",
    "\n",
    "    - Define las rutas de los archivos de entrada y salida."
   ]
  },
  {
   "cell_type": "code",
   "execution_count": null,
   "metadata": {},
   "outputs": [],
   "source": [
    "project_dir = os.path.abspath(os.path.join(os.getcwd(), '..'))\n",
    "input_file = os.path.join(project_dir, 'data', 'processed', 'cleaned_airlines_data.csv')\n",
    "output_file = os.path.join(project_dir, 'data', 'processed', 'featured_airlines_data.csv')"
   ]
  },
  {
   "cell_type": "markdown",
   "metadata": {},
   "source": [
    "\n",
    "2. **Verificar si el archivo de entrada existe**:\n",
    "\n",
    "    - Si el archivo de entrada no existe, imprime un mensaje de error y termina la ejecución."
   ]
  },
  {
   "cell_type": "code",
   "execution_count": null,
   "metadata": {},
   "outputs": [],
   "source": [
    "if not os.path.exists(input_file):\n",
    "    print(f\"Error: El archivo de entrada {input_file} no existe.\")\n",
    "    print(\"Asegúrate de que el archivo CSV con los datos preprocesados esté en la carpeta 'data/processed/'.\")\n",
    "    exit(1)"
   ]
  },
  {
   "cell_type": "markdown",
   "metadata": {},
   "source": [
    "\n",
    "3. **Cargar datos**:\n",
    "\n",
    "    - Carga los datos preprocesados desde el archivo CSV."
   ]
  },
  {
   "cell_type": "code",
   "execution_count": null,
   "metadata": {},
   "outputs": [],
   "source": [
    "print(f\"Cargando datos preprocesados desde {input_file}\")\n",
    "df = pd.read_csv(input_file)"
   ]
  },
  {
   "cell_type": "markdown",
   "metadata": {},
   "source": [
    "\n",
    "4. **Aplicar ingeniería de características**:\n",
    "\n",
    "    - Aplica las transformaciones de ingeniería de características al DataFrame."
   ]
  },
  {
   "cell_type": "code",
   "execution_count": null,
   "metadata": {},
   "outputs": [],
   "source": [
    "print(\"Aplicando ingeniería de características...\")\n",
    "df_featured = engineer_features(df)"
   ]
  },
  {
   "cell_type": "markdown",
   "metadata": {},
   "source": [
    "\n",
    "5. **Crear directorio de salida si no existe**:\n",
    "\n",
    "    - Crea el directorio de salida si no existe."
   ]
  },
  {
   "cell_type": "code",
   "execution_count": null,
   "metadata": {},
   "outputs": [],
   "source": [
    "os.makedirs(os.path.dirname(output_file), exist_ok=True)"
   ]
  },
  {
   "cell_type": "markdown",
   "metadata": {},
   "source": [
    "\n",
    "6. **Guardar el nuevo DataFrame**:\n",
    "\n",
    "    - Guarda el DataFrame con las nuevas características en un archivo CSV."
   ]
  },
  {
   "cell_type": "code",
   "execution_count": null,
   "metadata": {},
   "outputs": [],
   "source": [
    "df_featured.to_csv(output_file, index=False)\n",
    "print(f\"Datos con nuevas características guardados en {output_file}\")"
   ]
  },
  {
   "cell_type": "markdown",
   "metadata": {},
   "source": [
    "\n",
    "### Resumen\n",
    "\n",
    "Este script realiza la ingeniería de características en un conjunto de datos de aerolíneas, creando nuevas características como `total_rating`, `total_delay` y `age_group`. Luego, guarda el DataFrame modificado en un archivo CSV para su uso posterior en el modelado de datos."
   ]
  }
 ],
 "metadata": {
  "kernelspec": {
   "display_name": "venv",
   "language": "python",
   "name": "python3"
  },
  "language_info": {
   "codemirror_mode": {
    "name": "ipython",
    "version": 3
   },
   "file_extension": ".py",
   "mimetype": "text/x-python",
   "name": "python",
   "nbconvert_exporter": "python",
   "pygments_lexer": "ipython3",
   "version": "3.12.1"
  }
 },
 "nbformat": 4,
 "nbformat_minor": 2
}
